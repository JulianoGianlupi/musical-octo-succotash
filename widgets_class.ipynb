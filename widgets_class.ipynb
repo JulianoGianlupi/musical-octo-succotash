{
 "cells": [
  {
   "cell_type": "markdown",
   "metadata": {},
   "source": [
    "# Jupyter interactive widgets\n",
    "\n",
    "You've seen the previous year's projects using widgets (sliders, dropdowns) to make their models explorable. We'll do a quik rundown of how to implement some of them.\n",
    "\n",
    "I've used these websites as guides: https://towardsdatascience.com/bring-your-jupyter-notebook-to-life-with-interactive-widgets-bc12e03f0916, https://coderzcolumn.com/tutorials/python/interactive-widgets-in-jupyter-notebook-using-ipywidgets\n",
    "\n",
    "As well as these projects: https://nanohub.org/tools/neursynch, https://nanohub.org/tools/radiationsim\n",
    "\n",
    "And the widgets' documentation https://ipywidgets.readthedocs.io/en/7.x/"
   ]
  },
  {
   "cell_type": "code",
   "execution_count": 8,
   "metadata": {},
   "outputs": [],
   "source": [
    "import tellurium as te"
   ]
  },
  {
   "cell_type": "markdown",
   "metadata": {},
   "source": [
    "## Importing"
   ]
  },
  {
   "cell_type": "code",
   "execution_count": 9,
   "metadata": {},
   "outputs": [],
   "source": [
    "import ipywidgets as widgets # for the widgets\n",
    "from IPython.display import display # to display them"
   ]
  },
  {
   "cell_type": "markdown",
   "metadata": {},
   "source": [
    "## What is and isn't there\n",
    "The ``ipywidgets`` for tellurium in nanoHUB is not up to date. Let's see which version it is and what is there"
   ]
  },
  {
   "cell_type": "code",
   "execution_count": 10,
   "metadata": {},
   "outputs": [
    {
     "name": "stdout",
     "output_type": "stream",
     "text": [
      "7.1.2\n",
      "['Accordion', 'BoundedFloatText', 'BoundedIntText', 'Box', 'Button', 'ButtonStyle', 'CallbackDispatcher', 'Checkbox', 'Color', 'ColorPicker', 'Controller', 'CoreWidget', 'DOMWidget', 'DatePicker', 'Datetime', 'Dropdown', 'FloatProgress', 'FloatRangeSlider', 'FloatSlider', 'FloatText', 'HBox', 'HTML', 'HTMLMath', 'Image', 'IntProgress', 'IntRangeSlider', 'IntSlider', 'IntText', 'Label', 'Layout', 'NumberFormat', 'Output', 'Password', 'Play', 'RadioButtons', 'Select', 'SelectMultiple', 'SelectionRangeSlider', 'SelectionSlider', 'SliderStyle', 'Style', 'Tab', 'Text', 'Textarea', 'ToggleButton', 'ToggleButtons', 'ToggleButtonsStyle', 'VBox', 'Valid', 'ValueWidget', 'Widget', '__builtins__', '__cached__', '__doc__', '__file__', '__jupyter_widgets_base_version__', '__jupyter_widgets_controls_version__', '__loader__', '__name__', '__package__', '__path__', '__protocol_version__', '__spec__', '__version__', '_handle_ipython', '_version', 'dlink', 'docutils', 'domwidget', 'fixed', 'get_ipython', 'handle_kernel', 'interact', 'interact_manual', 'interaction', 'interactive', 'interactive_output', 'jsdlink', 'jslink', 'link', 'load_ipython_extension', 'os', 'register', 'register_comm_target', 'trait_types', 'valuewidget', 'version_info', 'widget', 'widget_bool', 'widget_box', 'widget_button', 'widget_color', 'widget_controller', 'widget_core', 'widget_date', 'widget_description', 'widget_float', 'widget_image', 'widget_int', 'widget_layout', 'widget_link', 'widget_output', 'widget_selection', 'widget_selectioncontainer', 'widget_serialization', 'widget_string', 'widget_style', 'widgets']\n"
     ]
    }
   ],
   "source": [
    "print(widgets.__version__)\n",
    "print(dir(widgets))"
   ]
  },
  {
   "cell_type": "markdown",
   "metadata": {},
   "source": [
    "### A simple example\n",
    "\n",
    "A slider that only uses integers. We can set the min / max number, the step size (presumably it has to be an integer), add a description to the slider, and the start value"
   ]
  },
  {
   "cell_type": "code",
   "execution_count": 4,
   "metadata": {},
   "outputs": [
    {
     "data": {
      "application/vnd.jupyter.widget-view+json": {
       "model_id": "889f8a16886743858c5e1b8d9102dce8",
       "version_major": 2,
       "version_minor": 0
      },
      "text/html": [
       "<p>Failed to display Jupyter Widget of type <code>IntSlider</code>.</p>\n",
       "<p>\n",
       "  If you're reading this message in the Jupyter Notebook or JupyterLab Notebook, it may mean\n",
       "  that the widgets JavaScript is still loading. If this message persists, it\n",
       "  likely means that the widgets JavaScript library is either not installed or\n",
       "  not enabled. See the <a href=\"https://ipywidgets.readthedocs.io/en/stable/user_install.html\">Jupyter\n",
       "  Widgets Documentation</a> for setup instructions.\n",
       "</p>\n",
       "<p>\n",
       "  If you're reading this message in another frontend (for example, a static\n",
       "  rendering on GitHub or <a href=\"https://nbviewer.jupyter.org/\">NBViewer</a>),\n",
       "  it may mean that your frontend doesn't currently support widgets.\n",
       "</p>\n"
      ],
      "text/plain": [
       "IntSlider(value=3, description='My first slider:', max=10)"
      ]
     },
     "metadata": {},
     "output_type": "display_data"
    }
   ],
   "source": [
    "int_slider = widgets.IntSlider(\n",
    "    min=0,\n",
    "    max=10,\n",
    "    step=1,\n",
    "    description='My first slider:',\n",
    "    value=3\n",
    ")\n",
    "display(int_slider)"
   ]
  },
  {
   "cell_type": "markdown",
   "metadata": {},
   "source": [
    "Now I'll grab the value from the slider and I'll print it's cube root"
   ]
  },
  {
   "cell_type": "code",
   "execution_count": 12,
   "metadata": {},
   "outputs": [
    {
     "name": "stdout",
     "output_type": "stream",
     "text": [
      "1.4422495703074083\n"
     ]
    }
   ],
   "source": [
    "v = int_slider.value # of the object int_slider get me the attribute value\n",
    "print(v**(1/3))"
   ]
  },
  {
   "cell_type": "markdown",
   "metadata": {},
   "source": [
    "### Not very interactive so far\n",
    "We can make things interactive by using ipywidgets' ``interact`` (``ipywidgets.interact``, or, in our case, ``widgets.interact``), https://ipywidgets.readthedocs.io/en/latest/examples/Using%20Interact.html\n",
    "\n",
    "Let's create a slider that imediatly prints the cube root of it's value. \n",
    "\n",
    "Interact is a function, but unlike most, if not all, functions we've used in class so far it expects another function as it's first argument; and as second the value it should pass to that function. \n",
    "\n",
    "Basically, first you tell ``interact`` what to do with the number and then which number to use. \n",
    "\n",
    "Let's create a function that calculates the cube root"
   ]
  },
  {
   "cell_type": "code",
   "execution_count": 30,
   "metadata": {},
   "outputs": [
    {
     "data": {
      "application/vnd.jupyter.widget-view+json": {
       "model_id": "f28819cc38e9430981a10735f2983233",
       "version_major": 2,
       "version_minor": 0
      },
      "text/html": [
       "<p>Failed to display Jupyter Widget of type <code>interactive</code>.</p>\n",
       "<p>\n",
       "  If you're reading this message in the Jupyter Notebook or JupyterLab Notebook, it may mean\n",
       "  that the widgets JavaScript is still loading. If this message persists, it\n",
       "  likely means that the widgets JavaScript library is either not installed or\n",
       "  not enabled. See the <a href=\"https://ipywidgets.readthedocs.io/en/stable/user_install.html\">Jupyter\n",
       "  Widgets Documentation</a> for setup instructions.\n",
       "</p>\n",
       "<p>\n",
       "  If you're reading this message in another frontend (for example, a static\n",
       "  rendering on GitHub or <a href=\"https://nbviewer.jupyter.org/\">NBViewer</a>),\n",
       "  it may mean that your frontend doesn't currently support widgets.\n",
       "</p>\n"
      ],
      "text/plain": [
       "interactive(children=(IntSlider(value=3, description='My first slider:', max=10), Output()), _dom_classes=('widget-interact',))"
      ]
     },
     "metadata": {},
     "output_type": "display_data"
    },
    {
     "data": {
      "text/plain": [
       "<function __main__.cube_root(value)>"
      ]
     },
     "execution_count": 30,
     "metadata": {},
     "output_type": "execute_result"
    }
   ],
   "source": [
    "def cube_root(value):\n",
    "    return value**(1/3)\n",
    "widgets.interact(cube_root, value=widgets.IntSlider(\n",
    "    min=0,\n",
    "    max=10,\n",
    "    step=1,\n",
    "    description='My first slider:',\n",
    "    value=3\n",
    "))"
   ]
  },
  {
   "cell_type": "markdown",
   "metadata": {},
   "source": [
    "#### Sprinkle some magic\n",
    "We can make things more compact by using function decorators. Decorators are a bit of python magic (technical term) that change how a function functions. \n",
    "\n",
    "https://www.geeksforgeeks.org/decorators-in-python/\n",
    "\n",
    "https://realpython.com/primer-on-python-decorators/\n",
    "\n",
    "Making ``cube_root`` interaction compact"
   ]
  },
  {
   "cell_type": "code",
   "execution_count": 32,
   "metadata": {},
   "outputs": [
    {
     "ename": "AttributeError",
     "evalue": "'IntSlider' object has no attribute 'copy'",
     "output_type": "error",
     "traceback": [
      "\u001b[0;31m---------------------------------------------------------------------------\u001b[0m",
      "\u001b[0;31mAttributeError\u001b[0m                            Traceback (most recent call last)",
      "\u001b[0;32m<ipython-input-32-697fadc22f0b>\u001b[0m in \u001b[0;36m<module>\u001b[0;34m()\u001b[0m\n\u001b[0;32m----> 1\u001b[0;31m \u001b[0;34m@\u001b[0m\u001b[0mwidgets\u001b[0m\u001b[0;34m.\u001b[0m\u001b[0minteract\u001b[0m\u001b[0;34m(\u001b[0m\u001b[0mx\u001b[0m\u001b[0;34m=\u001b[0m\u001b[0mint_slider\u001b[0m\u001b[0;34m.\u001b[0m\u001b[0mcopy\u001b[0m\u001b[0;34m(\u001b[0m\u001b[0;34m)\u001b[0m\u001b[0;34m)\u001b[0m\u001b[0;34m\u001b[0m\u001b[0m\n\u001b[0m\u001b[1;32m      2\u001b[0m \u001b[0;32mdef\u001b[0m \u001b[0mcube_root_magic\u001b[0m\u001b[0;34m(\u001b[0m\u001b[0mx\u001b[0m\u001b[0;34m)\u001b[0m\u001b[0;34m:\u001b[0m\u001b[0;34m\u001b[0m\u001b[0m\n\u001b[1;32m      3\u001b[0m     \u001b[0;32mreturn\u001b[0m \u001b[0mx\u001b[0m\u001b[0;34m**\u001b[0m\u001b[0;34m(\u001b[0m\u001b[0;36m1\u001b[0m\u001b[0;34m/\u001b[0m\u001b[0;36m3\u001b[0m\u001b[0;34m)\u001b[0m\u001b[0;34m\u001b[0m\u001b[0m\n",
      "\u001b[0;31mAttributeError\u001b[0m: 'IntSlider' object has no attribute 'copy'"
     ]
    }
   ],
   "source": [
    "@widgets.interact(x=int_slider)\n",
    "def cube_root_magic(x):\n",
    "    return x**(1/3)"
   ]
  },
  {
   "cell_type": "markdown",
   "metadata": {},
   "source": [
    "Notice that ``cube_root``'s argument is named ``value`` and we passed ``value=???`` to ``widgets.interact``. If ``cube_root``'s argument was ``x`` we'd pass ``x=???`` to ``widgets.interact`` (just as we did for the decorator version).\n",
    "\n",
    "## More than 1 argument funcitons\n",
    "We can, and you'll need to, have more complicated functions and interations. Let's start by drawing an elipsis. We have to import a couple more things and define a couple of functions"
   ]
  },
  {
   "cell_type": "code",
   "execution_count": 11,
   "metadata": {},
   "outputs": [],
   "source": [
    "import numpy as np\n",
    "import matplotlib.pyplot as plt"
   ]
  },
  {
   "cell_type": "code",
   "execution_count": 13,
   "metadata": {},
   "outputs": [],
   "source": [
    "def elipsis(r1, r2):\n",
    "    theta = np.linspace(0, 2*np.pi, 150)\n",
    "    return r1 * np.cos(theta), r2 * np.sin(theta)\n",
    "def draw_elipsis(radius1, radius2):\n",
    "    x, y = elipsis(radius1, radius2)\n",
    "    plt.plot(x, y)\n",
    "    plt.xlim(-20.1, 20.1) # set xrange and yrange to be from -max radius to max radius\n",
    "    plt.ylim(-20.1, 20.1)\n",
    "    ax = plt.gca() # get current axis (gca)\n",
    "    ax.set_aspect(1) # set spect ratio to be 1 (square plot, easier to see elipsis)\n",
    "    plt.show()"
   ]
  },
  {
   "cell_type": "markdown",
   "metadata": {},
   "source": [
    "Now we can add two sliders (one for r1, one for r2) and interact with ``draw_elipsis``"
   ]
  },
  {
   "cell_type": "code",
   "execution_count": 14,
   "metadata": {},
   "outputs": [
    {
     "data": {
      "application/vnd.jupyter.widget-view+json": {
       "model_id": "f1528c17d9f640888c1d5c0d41a8bd55",
       "version_major": 2,
       "version_minor": 0
      },
      "text/html": [
       "<p>Failed to display Jupyter Widget of type <code>interactive</code>.</p>\n",
       "<p>\n",
       "  If you're reading this message in the Jupyter Notebook or JupyterLab Notebook, it may mean\n",
       "  that the widgets JavaScript is still loading. If this message persists, it\n",
       "  likely means that the widgets JavaScript library is either not installed or\n",
       "  not enabled. See the <a href=\"https://ipywidgets.readthedocs.io/en/stable/user_install.html\">Jupyter\n",
       "  Widgets Documentation</a> for setup instructions.\n",
       "</p>\n",
       "<p>\n",
       "  If you're reading this message in another frontend (for example, a static\n",
       "  rendering on GitHub or <a href=\"https://nbviewer.jupyter.org/\">NBViewer</a>),\n",
       "  it may mean that your frontend doesn't currently support widgets.\n",
       "</p>\n"
      ],
      "text/plain": [
       "interactive(children=(FloatSlider(value=3.0, description='X major axis:', max=20.0, min=0.5, step=0.5), FloatSlider(value=4.0, description='Y major axis:', max=20.0, min=0.5, step=0.5), Output()), _dom_classes=('widget-interact',))"
      ]
     },
     "metadata": {},
     "output_type": "display_data"
    },
    {
     "data": {
      "text/plain": [
       "<function __main__.draw_elipsis(radius1, radius2)>"
      ]
     },
     "execution_count": 14,
     "metadata": {},
     "output_type": "execute_result"
    }
   ],
   "source": [
    " widgets.interact(draw_elipsis, \n",
    "                  radius1 = widgets.FloatSlider(\n",
    "                            min = 0.5, \n",
    "                            max = 20, \n",
    "                            step=.5, \n",
    "                            description='X major axis:',\n",
    "                            value=3), \n",
    "                  radius2 = widgets.FloatSlider(\n",
    "                            min = 0.5, \n",
    "                            max = 20, \n",
    "                            step=.5, \n",
    "                            description='Y major axis:',\n",
    "                            value=4))"
   ]
  },
  {
   "cell_type": "markdown",
   "metadata": {},
   "source": [
    "## Dealing with slowness\n",
    "\n",
    "Drawing an elipsis is not that computationally taxing and we can already see lag if we drag the sliders fast. By default the interations are updated live, we can easilly change that by passing ``continuous_update=False`` to the *sliders* (not to interact). With that option the updates will be made on click-release"
   ]
  },
  {
   "cell_type": "code",
   "execution_count": 18,
   "metadata": {},
   "outputs": [
    {
     "data": {
      "application/vnd.jupyter.widget-view+json": {
       "model_id": "1def7d299e8b4573a91288f45849b23b",
       "version_major": 2,
       "version_minor": 0
      },
      "text/html": [
       "<p>Failed to display Jupyter Widget of type <code>interactive</code>.</p>\n",
       "<p>\n",
       "  If you're reading this message in the Jupyter Notebook or JupyterLab Notebook, it may mean\n",
       "  that the widgets JavaScript is still loading. If this message persists, it\n",
       "  likely means that the widgets JavaScript library is either not installed or\n",
       "  not enabled. See the <a href=\"https://ipywidgets.readthedocs.io/en/stable/user_install.html\">Jupyter\n",
       "  Widgets Documentation</a> for setup instructions.\n",
       "</p>\n",
       "<p>\n",
       "  If you're reading this message in another frontend (for example, a static\n",
       "  rendering on GitHub or <a href=\"https://nbviewer.jupyter.org/\">NBViewer</a>),\n",
       "  it may mean that your frontend doesn't currently support widgets.\n",
       "</p>\n"
      ],
      "text/plain": [
       "interactive(children=(FloatSlider(value=3.0, continuous_update=False, description='X major axis:', max=20.0, min=0.5, step=0.5), FloatSlider(value=4.0, continuous_update=False, description='Y major axis:', max=20.0, min=0.5, step=0.5), Output()), _dom_classes=('widget-interact',))"
      ]
     },
     "metadata": {},
     "output_type": "display_data"
    },
    {
     "data": {
      "text/plain": [
       "<function __main__.draw_elipsis(radius1, radius2)>"
      ]
     },
     "execution_count": 18,
     "metadata": {},
     "output_type": "execute_result"
    }
   ],
   "source": [
    " widgets.interact(draw_elipsis, \n",
    "                  radius1 = widgets.FloatSlider(\n",
    "                            min = 0.5, \n",
    "                            max = 20, \n",
    "                            step=.5, \n",
    "                            description='X major axis:',\n",
    "                            value=3, continuous_update=False), \n",
    "                  radius2 = widgets.FloatSlider(\n",
    "                            min = 0.5, \n",
    "                            max = 20, \n",
    "                            step=.5, \n",
    "                            description='Y major axis:',\n",
    "                            value=4, continuous_update=False))"
   ]
  },
  {
   "cell_type": "markdown",
   "metadata": {},
   "source": [
    "#### A more interactive way to deal with slowness (and it saves typing)\n",
    "Is to use ``interact_manual`` instead of ``widgets.interact``. It will create a button to make the update"
   ]
  },
  {
   "cell_type": "code",
   "execution_count": 15,
   "metadata": {},
   "outputs": [
    {
     "data": {
      "application/vnd.jupyter.widget-view+json": {
       "model_id": "ea015f34a8e34bd39309be145b040d43",
       "version_major": 2,
       "version_minor": 0
      },
      "text/html": [
       "<p>Failed to display Jupyter Widget of type <code>interactive</code>.</p>\n",
       "<p>\n",
       "  If you're reading this message in the Jupyter Notebook or JupyterLab Notebook, it may mean\n",
       "  that the widgets JavaScript is still loading. If this message persists, it\n",
       "  likely means that the widgets JavaScript library is either not installed or\n",
       "  not enabled. See the <a href=\"https://ipywidgets.readthedocs.io/en/stable/user_install.html\">Jupyter\n",
       "  Widgets Documentation</a> for setup instructions.\n",
       "</p>\n",
       "<p>\n",
       "  If you're reading this message in another frontend (for example, a static\n",
       "  rendering on GitHub or <a href=\"https://nbviewer.jupyter.org/\">NBViewer</a>),\n",
       "  it may mean that your frontend doesn't currently support widgets.\n",
       "</p>\n"
      ],
      "text/plain": [
       "interactive(children=(FloatSlider(value=3.0, description='X major axis:', max=20.0, min=0.5, step=0.5), FloatSlider(value=4.0, description='Y major axis:', max=20.0, min=0.5, step=0.5), Button(description='Run Interact', style=ButtonStyle()), Output()), _dom_classes=('widget-interact',))"
      ]
     },
     "metadata": {},
     "output_type": "display_data"
    },
    {
     "data": {
      "text/plain": [
       "<function __main__.draw_elipsis(radius1, radius2)>"
      ]
     },
     "execution_count": 15,
     "metadata": {},
     "output_type": "execute_result"
    }
   ],
   "source": [
    " widgets.interact_manual(draw_elipsis, \n",
    "                  radius1 = widgets.FloatSlider(\n",
    "                            min = 0.5, \n",
    "                            max = 20, \n",
    "                            step=.5, \n",
    "                            description='X major axis:',\n",
    "                            value=3), \n",
    "                  radius2 = widgets.FloatSlider(\n",
    "                            min = 0.5, \n",
    "                            max = 20, \n",
    "                            step=.5, \n",
    "                            description='Y major axis:',\n",
    "                            value=4))"
   ]
  },
  {
   "cell_type": "markdown",
   "metadata": {},
   "source": [
    "# A more concrete example, SIR+death\n",
    "\n",
    "Let's make an interactive SIR with death"
   ]
  },
  {
   "cell_type": "code",
   "execution_count": 20,
   "metadata": {},
   "outputs": [
    {
     "data": {
      "image/png": "[encoded data removed]",
      "text/plain": [
       "<Figure size 432x288 with 1 Axes>"
      ]
     },
     "metadata": {},
     "output_type": "display_data"
    }
   ],
   "source": [
    "sir_string = r'''\n",
    "    // fluxes\n",
    "    E1: S -> I; n * gamma1 * I * S/S0; //infection\n",
    "    E2: I -> R; mu * I; // recovery\n",
    "    E3: I -> D; kID * I // death\n",
    "    \n",
    "    // parameters\n",
    "    gamma1 = 0.1;\n",
    "    n = 10; \n",
    "    mu = 1./5.;\n",
    "    kID = 0.01;\n",
    "    \n",
    "    // Initial conditions\n",
    "    S0 = 1E6;\n",
    "    \n",
    "    I = 1;\n",
    "    R = 0;\n",
    "    D = 0;\n",
    "    \n",
    "    S = S0 - I - R - D;\n",
    "    \n",
    "'''\n",
    "\n",
    "m = te.loada(sir_string)\n",
    "s = m.simulate(0, 50, 100)\n",
    "m.plot()"
   ]
  },
  {
   "cell_type": "markdown",
   "metadata": {},
   "source": [
    "#### I think that here it may be easier to define the sliders separatly\n",
    "\n",
    "Just as we did with ``cube_root``. You can do it in a single block (like we did with the elipsis) but *my preference* is to do it separatly when there are many sliders."
   ]
  },
  {
   "cell_type": "code",
   "execution_count": 21,
   "metadata": {},
   "outputs": [],
   "source": [
    "# gamma = 0.1;\n",
    "gamma_slider = widgets.FloatSlider(\n",
    "                            min = m['gamma1']/100, \n",
    "                            max = min(1, m['gamma1']*100), \n",
    "                            step=.001, \n",
    "                            description='gamma1:',\n",
    "                            value=m['gamma1'])\n",
    "# n = 10; \n",
    "n_slider = widgets.IntSlider(\n",
    "                            min = max(1, m['n']/100), \n",
    "                            max = m['n']*10, \n",
    "                            step=1, \n",
    "                            description='Avg daily encounters:',\n",
    "                            value=m['n'])\n",
    "# mu = 1./5.;\n",
    "mu_slider = widgets.FloatSlider(\n",
    "                            min = m['mu']/100, \n",
    "                            max = min(1, m['mu']*100), \n",
    "                            step=.001, \n",
    "                            description='mu:',\n",
    "                            value=m['mu'])\n",
    "# kID = 0.01;\n",
    "\n",
    "kID_slider = widgets.FloatSlider(\n",
    "                            min = m['kID']/100, \n",
    "                            max = min(1, m['kID']*100), \n",
    "                            step=.001, \n",
    "                            description='Death rate:',\n",
    "                            value=m['kID'])"
   ]
  },
  {
   "cell_type": "markdown",
   "metadata": {},
   "source": [
    "I only implemented sliders for the rates, we can add sliders for the initial conditions too, or anything. Also, notice that I used the IntSlider for the number of encounters\n",
    "\n",
    "#### And the function combining the model and the sliders"
   ]
  },
  {
   "cell_type": "code",
   "execution_count": 22,
   "metadata": {},
   "outputs": [],
   "source": [
    "def slider_SIRD(gamma, n, mu, kID):\n",
    "    sir_string = r'''\n",
    "    // fluxes\n",
    "    E1: S -> I; n * gamma1 * I * S/S0; //infection\n",
    "    E2: I -> R; mu * I; // recovery\n",
    "    E3: I -> D; kID * I // death\n",
    "    \n",
    "    // parameters\n",
    "    gamma1 = 0.1;\n",
    "    n = 10; \n",
    "    mu = 1./5.;\n",
    "    kID = 0.01;\n",
    "    \n",
    "    // Initial conditions\n",
    "    S0 = 1E6;\n",
    "    \n",
    "    I = 1;\n",
    "    R = 0;\n",
    "    D = 0;\n",
    "    \n",
    "    S = S0 - I - R - D;\n",
    "    \n",
    "    '''\n",
    "    \n",
    "    m = te.loada(sir_string) # laod the model\n",
    "    \n",
    "    m['gamma1'] = gamma # change the model\n",
    "    m['n'] = n\n",
    "    m['mu'] = mu\n",
    "    m['kID'] = kID\n",
    "    \n",
    "    s = m.simulate(0, 50, 100)\n",
    "    m.plot()\n",
    "#     return m, s"
   ]
  },
  {
   "cell_type": "code",
   "execution_count": 23,
   "metadata": {},
   "outputs": [
    {
     "data": {
      "application/vnd.jupyter.widget-view+json": {
       "model_id": "a9af544fdb53410a8951cb7af6c9721f",
       "version_major": 2,
       "version_minor": 0
      },
      "text/html": [
       "<p>Failed to display Jupyter Widget of type <code>interactive</code>.</p>\n",
       "<p>\n",
       "  If you're reading this message in the Jupyter Notebook or JupyterLab Notebook, it may mean\n",
       "  that the widgets JavaScript is still loading. If this message persists, it\n",
       "  likely means that the widgets JavaScript library is either not installed or\n",
       "  not enabled. See the <a href=\"https://ipywidgets.readthedocs.io/en/stable/user_install.html\">Jupyter\n",
       "  Widgets Documentation</a> for setup instructions.\n",
       "</p>\n",
       "<p>\n",
       "  If you're reading this message in another frontend (for example, a static\n",
       "  rendering on GitHub or <a href=\"https://nbviewer.jupyter.org/\">NBViewer</a>),\n",
       "  it may mean that your frontend doesn't currently support widgets.\n",
       "</p>\n"
      ],
      "text/plain": [
       "interactive(children=(FloatSlider(value=0.1, description='gamma1:', max=1.0, min=0.001, step=0.001), IntSlider(value=10, description='Avg daily encounters:', min=1), FloatSlider(value=0.2, description='mu:', max=1.0, min=0.002, step=0.001), FloatSlider(value=0.01, description='Death rate:', max=1.0, min=0.0001, step=0.001), Button(description='Run Interact', style=ButtonStyle()), Output()), _dom_classes=('widget-interact',))"
      ]
     },
     "metadata": {},
     "output_type": "display_data"
    }
   ],
   "source": [
    "r = widgets.interact_manual(slider_SIRD, gamma=gamma_slider, n=n_slider, mu=mu_slider, kID=kID_slider)"
   ]
  },
  {
   "cell_type": "markdown",
   "metadata": {},
   "source": [
    "## Multiple models\n",
    "If you want to have the user select one model option among many we can use the ``Dropdown`` widget. As an example we can create a function that either uses the SIRD or SIR model"
   ]
  },
  {
   "cell_type": "code",
   "execution_count": 24,
   "metadata": {},
   "outputs": [],
   "source": [
    "def SIR_or_SIRD(select, gamma, n, mu, kID):\n",
    "    if select == 'SIRD':\n",
    "        model_string = r'''\n",
    "                    // fluxes\n",
    "                    E1: S -> I; n * gamma1 * I * S/S0; //infection\n",
    "                    E2: I -> R; mu * I; // recovery\n",
    "                    E3: I -> D; kID * I // death\n",
    "\n",
    "                    // parameters\n",
    "                    gamma1 = 0.1;\n",
    "                    n = 10; \n",
    "                    mu = 1./5.;\n",
    "                    kID = 0.01;\n",
    "\n",
    "                    // Initial conditions\n",
    "                    S0 = 1E6;\n",
    "\n",
    "                    I = 1;\n",
    "                    R = 0;\n",
    "                    D = 0;\n",
    "\n",
    "                    S = S0 - I - R - D;\n",
    "\n",
    "                    '''\n",
    "    elif select == 'SIR':\n",
    "        model_string = r'''\n",
    "                    // fluxes\n",
    "                    E1: S -> I; n * gamma1 * I * S/S0; //infection\n",
    "                    E2: I -> R; mu * I; // recovery\n",
    "\n",
    "                    // parameters\n",
    "                    gamma1 = 0.1;\n",
    "                    n = 10; \n",
    "                    mu = 1./5.;\n",
    "\n",
    "                    // Initial conditions\n",
    "                    S0 = 1E6;\n",
    "\n",
    "                    I = 1;\n",
    "                    R = 0;\n",
    "\n",
    "                    S = S0 - I - R;\n",
    "\n",
    "                    '''\n",
    "    else:\n",
    "        raise ValueError(f'Unknown option {select}. Valid options are \"SIR\" and \"SIRD\"')\n",
    "    m = te.loada(model_string) # laod the model\n",
    "    \n",
    "    m['gamma1'] = gamma # change the model\n",
    "    m['n'] = n\n",
    "    m['mu'] = mu\n",
    "    if select == 'SIRD':\n",
    "        m['kID'] = kID\n",
    "    \n",
    "    s = m.simulate(0, 50, 100)\n",
    "    m.plot()"
   ]
  },
  {
   "cell_type": "markdown",
   "metadata": {},
   "source": [
    "Notice that even though we have the sliders configured and ready to be used with the variable names ``gamma_slider``, ``n_slider``, ``mu_slider``, ``kID_slider`` I am \"recreating\" them and passing the recreation to ``widgets.interact_manual``. I'm doing this because otherwise changing the slider, e.g., ``gamma_slider`` here would change it everywhere else in the notebook. This has caused some plotting errors for me."
   ]
  },
  {
   "cell_type": "code",
   "execution_count": 33,
   "metadata": {},
   "outputs": [
    {
     "data": {
      "application/vnd.jupyter.widget-view+json": {
       "model_id": "625bfdcd60da488f875b59379c638cc6",
       "version_major": 2,
       "version_minor": 0
      },
      "text/html": [
       "<p>Failed to display Jupyter Widget of type <code>interactive</code>.</p>\n",
       "<p>\n",
       "  If you're reading this message in the Jupyter Notebook or JupyterLab Notebook, it may mean\n",
       "  that the widgets JavaScript is still loading. If this message persists, it\n",
       "  likely means that the widgets JavaScript library is either not installed or\n",
       "  not enabled. See the <a href=\"https://ipywidgets.readthedocs.io/en/stable/user_install.html\">Jupyter\n",
       "  Widgets Documentation</a> for setup instructions.\n",
       "</p>\n",
       "<p>\n",
       "  If you're reading this message in another frontend (for example, a static\n",
       "  rendering on GitHub or <a href=\"https://nbviewer.jupyter.org/\">NBViewer</a>),\n",
       "  it may mean that your frontend doesn't currently support widgets.\n",
       "</p>\n"
      ],
      "text/plain": [
       "interactive(children=(Dropdown(description='Model options:', options=('SIRD', 'SIR'), value='SIRD'), FloatSlider(value=0.1, description='gamma1:', max=1.0, min=0.001, step=0.001), IntSlider(value=10, description='Avg daily encounters:', min=1), FloatSlider(value=0.2, description='mu:', max=1.0, min=0.002, step=0.001), FloatSlider(value=0.01, description='Death rate:', max=1.0, min=0.0001, step=0.001), Button(description='Run Interact', style=ButtonStyle()), Output()), _dom_classes=('widget-interact',))"
      ]
     },
     "metadata": {},
     "output_type": "display_data"
    },
    {
     "data": {
      "text/plain": [
       "<function __main__.SIR_or_SIRD(select, gamma, n, mu, kID)>"
      ]
     },
     "execution_count": 33,
     "metadata": {},
     "output_type": "execute_result"
    }
   ],
   "source": [
    "widgets.interact_manual(SIR_or_SIRD, \n",
    "                            select = widgets.Dropdown(options=['SIRD', 'SIR'],\n",
    "                                                      description='Model options:'),\n",
    "                            gamma=widgets.FloatSlider(\n",
    "                                    min = m['gamma1']/100, \n",
    "                                    max = min(1, m['gamma1']*100), \n",
    "                                    step=.001, \n",
    "                                    description='gamma1:',\n",
    "                                    value=m['gamma1']),\n",
    "                            n=widgets.IntSlider(\n",
    "                                    min = max(1, m['n']/100), \n",
    "                                    max = m['n']*10, \n",
    "                                    step=1, \n",
    "                                    description='Avg daily encounters:',\n",
    "                                    value=m['n']), \n",
    "                            mu=widgets.FloatSlider(\n",
    "                                    min = m['mu']/100, \n",
    "                                    max = min(1, m['mu']*100), \n",
    "                                    step=.001, \n",
    "                                    description='mu:',\n",
    "                                    value=m['mu']), \n",
    "                            kID=widgets.FloatSlider(\n",
    "                                    min = m['kID']/100, \n",
    "                                    max = min(1, m['kID']*100), \n",
    "                                    step=.001, \n",
    "                                    description='Death rate:',\n",
    "                                    value=m['kID']))"
   ]
  },
  {
   "cell_type": "markdown",
   "metadata": {},
   "source": [
    "# Separating plots\n",
    "If you have too many lines in the same plot it becomes hard to notice things. If the values plotted are too dissimilar it also conterproductiove to plot them in the same graph. \n",
    "\n",
    "Let's see how to have 4 plots aranged in 2x2"
   ]
  },
  {
   "cell_type": "code",
   "execution_count": 35,
   "metadata": {},
   "outputs": [],
   "source": [
    "def slider_SIRD_separated(gamma, n, mu, kID):\n",
    "    sir_string = r'''\n",
    "    // fluxes\n",
    "    E1: S -> I; n * gamma1 * I * S/S0; //infection\n",
    "    E2: I -> R; mu * I; // recovery\n",
    "    E3: I -> D; kID * I // death\n",
    "    \n",
    "    // parameters\n",
    "    gamma1 = 0.1;\n",
    "    n = 10; \n",
    "    mu = 1./5.;\n",
    "    kID = 0.01;\n",
    "    \n",
    "    // Initial conditions\n",
    "    S0 = 1E6;\n",
    "    \n",
    "    I = 1;\n",
    "    R = 0;\n",
    "    D = 0;\n",
    "    \n",
    "    S = S0 - I - R - D;\n",
    "    \n",
    "    '''\n",
    "    \n",
    "    m = te.loada(sir_string) # laod the model\n",
    "    \n",
    "    m['gamma1'] = gamma # change the model\n",
    "    m['n'] = n\n",
    "    m['mu'] = mu\n",
    "    m['kID'] = kID\n",
    "    \n",
    "    s = m.simulate(0, 50, 100)\n",
    "#     m.plot()\n",
    "#     return m, s\n",
    "    fig, axs = plt.subplots(2, 2) # 4 subplots in 2x2\n",
    "    \n",
    "    axs[0,0].plot(s['time'], s['[S]']/m['S0']) # top left subplot [0,0]\n",
    "    axs[0,0].set_title('Susceptible pop %')\n",
    "    axs[0,1].plot(s['time'], s['[I]']/m['S0']) # top right subplot [0,1]\n",
    "    axs[0,1].set_title('Infected pop %')\n",
    "    axs[1,0].plot(s['time'], s['[R]']/m['S0']) # bottom left subplot [1,0]\n",
    "    axs[1,0].set_title('Recovered pop %')\n",
    "    axs[1,1].plot(s['time'], s['[D]']/m['S0']) # bottom right subplot [1,1]\n",
    "    axs[1,1].set_title('Dead pop %')\n",
    "    plt.tight_layout()\n",
    "    plt.show()"
   ]
  },
  {
   "cell_type": "code",
   "execution_count": 36,
   "metadata": {},
   "outputs": [
    {
     "data": {
      "application/vnd.jupyter.widget-view+json": {
       "model_id": "40f3b3f872e44e23a1e7e854ffb40258",
       "version_major": 2,
       "version_minor": 0
      },
      "text/html": [
       "<p>Failed to display Jupyter Widget of type <code>interactive</code>.</p>\n",
       "<p>\n",
       "  If you're reading this message in the Jupyter Notebook or JupyterLab Notebook, it may mean\n",
       "  that the widgets JavaScript is still loading. If this message persists, it\n",
       "  likely means that the widgets JavaScript library is either not installed or\n",
       "  not enabled. See the <a href=\"https://ipywidgets.readthedocs.io/en/stable/user_install.html\">Jupyter\n",
       "  Widgets Documentation</a> for setup instructions.\n",
       "</p>\n",
       "<p>\n",
       "  If you're reading this message in another frontend (for example, a static\n",
       "  rendering on GitHub or <a href=\"https://nbviewer.jupyter.org/\">NBViewer</a>),\n",
       "  it may mean that your frontend doesn't currently support widgets.\n",
       "</p>\n"
      ],
      "text/plain": [
       "interactive(children=(FloatSlider(value=0.1, description='gamma1:', max=1.0, min=0.001, step=0.001), IntSlider(value=10, description='Avg daily encounters:', min=1), FloatSlider(value=0.2, description='mu:', max=1.0, min=0.002, step=0.001), FloatSlider(value=0.01, description='Death rate:', max=1.0, min=0.0001, step=0.001), Button(description='Run Interact', style=ButtonStyle()), Output()), _dom_classes=('widget-interact',))"
      ]
     },
     "metadata": {},
     "output_type": "display_data"
    },
    {
     "data": {
      "text/plain": [
       "<function __main__.slider_SIRD_separated(gamma, n, mu, kID)>"
      ]
     },
     "execution_count": 36,
     "metadata": {},
     "output_type": "execute_result"
    }
   ],
   "source": [
    "widgets.interact_manual(slider_SIRD_separated, gamma=widgets.FloatSlider(\n",
    "                                    min = m['gamma1']/100, \n",
    "                                    max = min(1, m['gamma1']*100), \n",
    "                                    step=.001, \n",
    "                                    description='gamma1:',\n",
    "                                    value=m['gamma1']),\n",
    "                            n=widgets.IntSlider(\n",
    "                                    min = max(1, m['n']/100), \n",
    "                                    max = m['n']*10, \n",
    "                                    step=1, \n",
    "                                    description='Avg daily encounters:',\n",
    "                                    value=m['n']), \n",
    "                            mu=widgets.FloatSlider(\n",
    "                                    min = m['mu']/100, \n",
    "                                    max = min(1, m['mu']*100), \n",
    "                                    step=.001, \n",
    "                                    description='mu:',\n",
    "                                    value=m['mu']), \n",
    "                            kID=widgets.FloatSlider(\n",
    "                                    min = m['kID']/100, \n",
    "                                    max = min(1, m['kID']*100), \n",
    "                                    step=.001, \n",
    "                                    description='Death rate:',\n",
    "                                    value=m['kID']))"
   ]
  },
  {
   "cell_type": "code",
   "execution_count": null,
   "metadata": {},
   "outputs": [],
   "source": []
  }
 ],
 "metadata": {
  "kernelspec": {
   "display_name": "Python 3.6",
   "language": "python",
   "name": "python3"
  },
  "language_info": {
   "codemirror_mode": {
    "name": "ipython",
    "version": 3
   },
   "file_extension": ".py",
   "mimetype": "text/x-python",
   "name": "python",
   "nbconvert_exporter": "python",
   "pygments_lexer": "ipython3",
   "version": "3.6.5"
  }
 },
 "nbformat": 4,
 "nbformat_minor": 2
}
